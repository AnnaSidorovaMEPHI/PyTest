{
 "cells": [
  {
   "cell_type": "code",
   "execution_count": 102,
   "metadata": {},
   "outputs": [],
   "source": [
    "import pickle\n",
    "import math"
   ]
  },
  {
   "cell_type": "markdown",
   "metadata": {},
   "source": [
    "# Hasher\n",
    "## Параметры:\n",
    "x-входные данные  \n",
    "m-число слов в строке  \n",
    "n-число вариантов х для одних входных данных  \n",
    "delimiter-произвольный разделитель  \n",
    "  \n",
    "Метод get_pre_hash вычисляет хеш от битовой последовательности, переводит в int.  \n",
    "Метод get_hash создает последовательность n вариантов хеша для входных данных."
   ]
  },
  {
   "cell_type": "code",
   "execution_count": 211,
   "metadata": {},
   "outputs": [],
   "source": [
    "class Hasher():\n",
    "    def __init__(self,x,m,n,delimiter,dic):\n",
    "        self.b = pickle.dumps(x) #сериализация\n",
    "        self.m=m\n",
    "        self.n=n\n",
    "        self.d=delimiter\n",
    "        with open(dic) as file:\n",
    "            self.data=file.readlines()\n",
    "    def get_pre_hash(self):\n",
    "        h=int(hash(self.b))\n",
    "        return h%len(self.data)\n",
    "    \n",
    "    def get_hash(self):\n",
    "        prehash=self.get_pre_hash()\n",
    "        hashes=['' for _ in range(self.n)]\n",
    "        for j in range(self.n):\n",
    "            for i in range(self.m):\n",
    "                hashes[j]+=self.data[prehash]\n",
    "                if i!=self.m-1:\n",
    "                    hashes[j]+=self.d\n",
    "                deg=19\n",
    "                prehash=int((prehash+prehash*(math.e**deg))%len(self.data))\n",
    "            hashes[j]=hashes[j].replace('\\n','')\n",
    "            prehash=prehash**2%len(self.data)\n",
    "        return hashes "
   ]
  },
  {
   "cell_type": "code",
   "execution_count": 213,
   "metadata": {},
   "outputs": [
    {
     "name": "stdout",
     "output_type": "stream",
     "text": [
      "['rumakis_grandames_Abelard', 'lunatical_metabrushite_thumby', 'outstridden_extempore_overcommits', 'hyalithe_hegumeness_wind-obeying', 'Clayborn_immortalizing_Brigg']\n"
     ]
    }
   ],
   "source": [
    "dic={1:5}\n",
    "A=Hasher(dic,3,5,'_','words.txt')\n",
    "print(A.get_hash())"
   ]
  },
  {
   "cell_type": "code",
   "execution_count": 224,
   "metadata": {},
   "outputs": [],
   "source": [
    "C=Hasher({'name':'petya'},3,5,'','words.txt')\n",
    "D=Hasher({'name':'petya'},3,5,'','words.txt')\n",
    "assert (C.get_hash())==(D.get_hash())"
   ]
  },
  {
   "cell_type": "code",
   "execution_count": 225,
   "metadata": {},
   "outputs": [
    {
     "ename": "AssertionError",
     "evalue": "",
     "output_type": "error",
     "traceback": [
      "\u001b[1;31m---------------------------------------------------------------------------\u001b[0m",
      "\u001b[1;31mAssertionError\u001b[0m                            Traceback (most recent call last)",
      "\u001b[1;32m<ipython-input-225-fc1af30a86b8>\u001b[0m in \u001b[0;36m<module>\u001b[1;34m()\u001b[0m\n\u001b[0;32m      1\u001b[0m \u001b[0mA\u001b[0m\u001b[1;33m=\u001b[0m\u001b[0mHasher\u001b[0m\u001b[1;33m(\u001b[0m\u001b[1;33m{\u001b[0m\u001b[1;34m'name'\u001b[0m\u001b[1;33m:\u001b[0m\u001b[1;34m'petya'\u001b[0m\u001b[1;33m}\u001b[0m\u001b[1;33m,\u001b[0m\u001b[1;36m3\u001b[0m\u001b[1;33m,\u001b[0m\u001b[1;36m5\u001b[0m\u001b[1;33m,\u001b[0m\u001b[1;34m''\u001b[0m\u001b[1;33m,\u001b[0m\u001b[1;34m'words.txt'\u001b[0m\u001b[1;33m)\u001b[0m\u001b[1;33m\u001b[0m\u001b[0m\n\u001b[0;32m      2\u001b[0m \u001b[0mB\u001b[0m\u001b[1;33m=\u001b[0m\u001b[0mHasher\u001b[0m\u001b[1;33m(\u001b[0m\u001b[1;33m{\u001b[0m\u001b[1;34m'name'\u001b[0m\u001b[1;33m:\u001b[0m\u001b[1;34m'petAa'\u001b[0m\u001b[1;33m}\u001b[0m\u001b[1;33m,\u001b[0m\u001b[1;36m3\u001b[0m\u001b[1;33m,\u001b[0m\u001b[1;36m5\u001b[0m\u001b[1;33m,\u001b[0m\u001b[1;34m''\u001b[0m\u001b[1;33m,\u001b[0m\u001b[1;34m'words.txt'\u001b[0m\u001b[1;33m)\u001b[0m\u001b[1;33m\u001b[0m\u001b[0m\n\u001b[1;32m----> 3\u001b[1;33m \u001b[1;32massert\u001b[0m \u001b[1;33m(\u001b[0m\u001b[0mA\u001b[0m\u001b[1;33m.\u001b[0m\u001b[0mget_hash\u001b[0m\u001b[1;33m(\u001b[0m\u001b[1;33m)\u001b[0m\u001b[1;33m)\u001b[0m\u001b[1;33m==\u001b[0m\u001b[1;33m(\u001b[0m\u001b[0mB\u001b[0m\u001b[1;33m.\u001b[0m\u001b[0mget_hash\u001b[0m\u001b[1;33m(\u001b[0m\u001b[1;33m)\u001b[0m\u001b[1;33m)\u001b[0m\u001b[1;33m\u001b[0m\u001b[0m\n\u001b[0m",
      "\u001b[1;31mAssertionError\u001b[0m: "
     ]
    }
   ],
   "source": [
    "A=Hasher({'name':'petya'},3,5,'','words.txt')\n",
    "B=Hasher({'name':'petAa'},3,5,'','words.txt')\n",
    "assert (A.get_hash())==(B.get_hash())"
   ]
  },
  {
   "cell_type": "code",
   "execution_count": null,
   "metadata": {},
   "outputs": [],
   "source": []
  }
 ],
 "metadata": {
  "kernelspec": {
   "display_name": "Python 3",
   "language": "python",
   "name": "python3"
  },
  "language_info": {
   "codemirror_mode": {
    "name": "ipython",
    "version": 3
   },
   "file_extension": ".py",
   "mimetype": "text/x-python",
   "name": "python",
   "nbconvert_exporter": "python",
   "pygments_lexer": "ipython3",
   "version": "3.7.0"
  }
 },
 "nbformat": 4,
 "nbformat_minor": 2
}
